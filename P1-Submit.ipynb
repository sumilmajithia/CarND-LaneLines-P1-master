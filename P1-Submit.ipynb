{
 "cells": [
  {
   "cell_type": "markdown",
   "metadata": {},
   "source": [
    "# Project 1 - Finding Lane lines on the Road\n",
    "\n",
    "In this Project I have used the concepts leanred in Lesson 1 of Self Driving Car nano-degree of Udacity.This code is written to draw lane lines on the road from an already existing recorded video. Series of steps are followed to reach the goal of this project."
   ]
  },
  {
   "cell_type": "markdown",
   "metadata": {},
   "source": [
    "## Step : 1\n",
    "Import all the neceessary libraries "
   ]
  },
  {
   "cell_type": "code",
   "execution_count": 1,
   "metadata": {},
   "outputs": [],
   "source": [
    "import matplotlib.pyplot as plt # Importing pyplot functions from Matplotlib to edit the plots\n",
    "import matplotlib.image as mpimg# Importing image function from Matplotlib to read the images\n",
    "import numpy as np # For performing operaions on image \n",
    "import cv2 # For using Open CV libraries\n",
    "from moviepy.editor import VideoFileClip # to deal with video editing\n",
    "from IPython.display import HTML # to output the video\n",
    "import math \n",
    "%matplotlib inline"
   ]
  },
  {
   "cell_type": "markdown",
   "metadata": {},
   "source": [
    "## Step : 2\n",
    "Creating all the Important Functions"
   ]
  },
  {
   "cell_type": "code",
   "execution_count": 2,
   "metadata": {},
   "outputs": [],
   "source": [
    "def grayscale(img):   \n",
    "    return cv2.cvtColor(img, cv2.COLOR_RGB2GRAY)\n",
    " \n",
    "    \n",
    "def canny(img, low_threshold, high_threshold):\n",
    "    return cv2.Canny(img, low_threshold, high_threshold)\n",
    "\n",
    "def gaussian_blur(img, kernel_size):\n",
    "    \"\"\"Applies a Gaussian Noise kernel\"\"\"\n",
    "    return cv2.GaussianBlur(img, (kernel_size, kernel_size), 0)\n",
    "\n",
    "def region_of_interest(img, vertices):\n",
    "    \"\"\"\n",
    "    Applies an image mask.\n",
    "    \n",
    "    Only keeps the region of the image defined by the polygon\n",
    "    formed from `vertices`. The rest of the image is set to black.\n",
    "    \"\"\"\n",
    "    #defining a blank mask to start with\n",
    "    mask = np.zeros_like(img)   \n",
    "    \n",
    "    #defining a 3 channel or 1 channel color to fill the mask with depending on the input image\n",
    "    if len(img.shape) > 2:\n",
    "        channel_count = img.shape[2]  # i.e. 3 or 4 depending on your image\n",
    "        ignore_mask_color = (255,) * channel_count\n",
    "    else:\n",
    "        ignore_mask_color = 255\n",
    "        \n",
    "    #filling pixels inside the polygon defined by \"vertices\" with the fill color    \n",
    "    cv2.fillPoly(mask, vertices, ignore_mask_color)\n",
    "    \n",
    "    #returning the image only where mask pixels are nonzero\n",
    "    masked_image = cv2.bitwise_and(img, mask)\n",
    "    return masked_image\n",
    "\n",
    "\n",
    "def draw_lines(img, lines, color=[255, 0, 0], thickness=2):\n",
    "    \"\"\"\n",
    "    NOTE: this is the function you might want to use as a starting point once you want to \n",
    "    average/extrapolate the line segments you detect to map out the full\n",
    "    extent of the lane (going from the result shown in raw-lines-example.mp4\n",
    "    to that shown in P1_example.mp4).  \n",
    "    \n",
    "    Think about things like separating line segments by their \n",
    "    slope ((y2-y1)/(x2-x1)) to decide which segments are part of the left\n",
    "    line vs. the right line.  Then, you can average the position of each of \n",
    "    the lines and extrapolate to the top and bottom of the lane.\n",
    "    \n",
    "    This function draws `lines` with `color` and `thickness`.    \n",
    "    Lines are drawn on the image inplace (mutates the image).\n",
    "    If you want to make the lines semi-transparent, think about combining\n",
    "    this function with the weighted_img() function below\n",
    "    \"\"\"\n",
    "    for line in lines:\n",
    "        for x1,y1,x2,y2 in line:\n",
    "            cv2.line(img, (x1, y1), (x2, y2), color, thickness)\n",
    "\n",
    "def hough_lines(img, rho, theta, threshold, min_line_len, max_line_gap):\n",
    "    \"\"\"\n",
    "    `img` should be the output of a Canny transform.\n",
    "        \n",
    "    Returns an image with hough lines drawn.\n",
    "    \"\"\"\n",
    "    lines = cv2.HoughLinesP(img, rho, theta, threshold, np.array([]), minLineLength=min_line_len, maxLineGap=max_line_gap)\n",
    "    line_img = np.zeros((img.shape[0], img.shape[1], 3), dtype=np.uint8)\n",
    "    draw_lines(line_img, lines)\n",
    "    return lines\n",
    "\n",
    "# Python 3 has support for cool math symbols.\n",
    "\n",
    "def weighted_img(img, initial_img, α=0.8, β=1., λ=0.):\n",
    "    \"\"\"\n",
    "    `img` is the output of the hough_lines(), An image with lines drawn on it.\n",
    "    Should be a blank image (all black) with lines drawn on it.\n",
    "    \n",
    "    `initial_img` should be the image before any processing.\n",
    "    \n",
    "    The result image is computed as follows:\n",
    "    \n",
    "    initial_img * α + img * β + λ\n",
    "    NOTE: initial_img and img must be the same shape!\n",
    "    \"\"\"\n",
    "    return cv2.addWeighted(initial_img, α, img, β, λ)"
   ]
  },
  {
   "cell_type": "markdown",
   "metadata": {},
   "source": [
    "## Step 3\n",
    "Creating the function which will take an Image frame from the video and draw lines on in"
   ]
  },
  {
   "cell_type": "code",
   "execution_count": 3,
   "metadata": {},
   "outputs": [],
   "source": [
    "old_r=1\n",
    "old_l=1\n",
    "old_right=0\n",
    "old_left=0\n",
    "old_intercept_r=0\n",
    "old_intercept_l=0\n"
   ]
  },
  {
   "cell_type": "code",
   "execution_count": 6,
   "metadata": {},
   "outputs": [],
   "source": [
    "def process_image(image):\n",
    "    \n",
    "    gray=grayscale(image) # Converting it to grayscale\n",
    "      \n",
    "    kernel_size = 3   \n",
    "    blur_gray=gaussian_blur(gray,kernel_size) # applying Guassian Blur on the Image  \n",
    "    \n",
    "    low_threshold = 50\n",
    "    high_threshold =155\n",
    "    edges=canny(blur_gray,low_threshold,high_threshold)  # Using edge detecction algorithms\n",
    "    \n",
    "    \n",
    "    imshape = image.shape    \n",
    "    vertices = np.array([[(170,480),(430,400), (600,400), (860,480)]], dtype=np.int32)\n",
    "    masked_edges = region_of_interest(edges,vertices)  \n",
    "    \n",
    "    # Define the Hough transform parameters\n",
    "    # Make a blank the same size as our image to draw on\n",
    "    rho = 2 # distance resolution in pixels of the Hough grid\n",
    "    theta = np.pi/180 # angular resolution in radians of the Hough grid\n",
    "    threshold = 15     # minimum number of votes (intersections in Hough grid cell)\n",
    "    min_line_length = 40 #minimum number of pixels making up a line\n",
    "    max_line_gap = 20  # maximum gap in pixels between connectable line segments\n",
    "    #threshold = 50     # minimum number of votes (intersections in Hough grid cell)\n",
    "    #min_line_length = 100 #minimum number of pixels making up a line\n",
    "    #max_line_gap = 160  # maximum gap in pixels between connectable line segments\n",
    "    #line_image = np.copy(image)*0 # creating a blank to draw lines on\n",
    "\n",
    "    # Run Hough on edge detected image\n",
    "    # Output \"lines\" is an array containing endpoints of detected line segments\n",
    "    #lines = cv2.HoughLinesP(masked_edges, rho, theta, threshold, np.array([]),\n",
    "     #                       min_line_length, max_line_gap)\n",
    "    lines = hough_lines(masked_edges, rho, theta, threshold, min_line_length, max_line_gap)\n",
    "   \n",
    "    \n",
    "    # identifying the left lane lines and the right lines by calulating the slope\n",
    "    r=0\n",
    "    right=0\n",
    "    l=0\n",
    "    left=0\n",
    "    intercept_r=0\n",
    "    intercept_l=0\n",
    "    for line in lines:\n",
    "        for x1,y1,x2,y2 in line:\n",
    "            if (((y2-y1)/(x2-x1)) > 1) | (((y2-y1)/(x2-x1)) <-1) | ((x2-x1)==0):  # rejecting some of the outliers\n",
    "                a=1\n",
    "            elif ((y2-y1)/(x2-x1))>0.5:   # good range to select the right lane lines\n",
    "                right=right+((y2-y1)/(x2-x1))\n",
    "                r=r+1\n",
    "                intercept_r=intercept_r+y2-((y2-y1)/(x2-x1))*x2\n",
    "            elif ((y2-y1)/(x2-x1)) < -0.3:    # good range to select the left lane lines\n",
    "                left=left+((y2-y1)/(x2-x1))\n",
    "                l=l+1\n",
    "                intercept_l=intercept_l+y2-((y2-y1)/(x2-x1))*x2\n",
    "             \n",
    "   \n",
    "    if (r==0): \n",
    "        r=old_r\n",
    "        intercept_r=old_intercept_r       \n",
    "        right=old_right\n",
    "        \n",
    "        \n",
    "    if (l==0):\n",
    "        l=old_l\n",
    "        intercept_l=old_intercept_l\n",
    "        left=old_left\n",
    "   \n",
    "    p=0.2\n",
    "    q=0.8\n",
    "    mean_right=p*(right/r)+q*(old_right/old_r)\n",
    "    mean_left=p*(left/l)+q*(old_left/old_l)\n",
    "    mean_right_intercept=p*(intercept_r/r)+q*(old_intercept_r/old_r)\n",
    "    mean_left_intercept=p*(intercept_l/l)+q*(old_intercept_l/old_l)\n",
    "    \n",
    "        \n",
    "    \n",
    "    Y1=650\n",
    "    Y2=330\n",
    "    X1=int((Y1-mean_left_intercept)/mean_left)\n",
    "    X2=int((Y2-mean_left_intercept)/mean_left)\n",
    "\n",
    "\n",
    "    Y11=650\n",
    "    Y22=330\n",
    "    X11=int((Y11-mean_right_intercept)/mean_right)\n",
    "    X22=int((Y22-mean_right_intercept)/mean_right)\n",
    "    lines = np.copy(image)*0\n",
    "    cv2.line(lines,(X1,Y1),(X2,Y2),(255,0,0),10)\n",
    "    cv2.line(lines,(X11,Y11),(X22,Y22),(255,0,0),10)\n",
    "    image_weighted=cv2.addWeighted(image,0.8,lines,2.0,0)\n",
    "    \n",
    "    global old_r \n",
    "    old_r = r\n",
    "    global old_l\n",
    "    old_l = l\n",
    "    global old_right \n",
    "    old_right = right\n",
    "    global old_left\n",
    "    old_left = left\n",
    "    global old_intercept_r\n",
    "    old_intercept_r = intercept_r\n",
    "    global old_intercept_l \n",
    "    old_intercept_l = intercept_l\n",
    "    \n",
    "    return image_weighted"
   ]
  },
  {
   "cell_type": "code",
   "execution_count": 7,
   "metadata": {
    "scrolled": true
   },
   "outputs": [
    {
     "name": "stdout",
     "output_type": "stream",
     "text": [
      "[MoviePy] >>>> Building video test_videos_output/solidWhiteRight.mp4\n",
      "[MoviePy] Writing video test_videos_output/solidWhiteRight.mp4\n"
     ]
    },
    {
     "name": "stderr",
     "output_type": "stream",
     "text": [
      "100%|█████████▉| 221/222 [00:06<00:00, 36.01it/s]\n"
     ]
    },
    {
     "name": "stdout",
     "output_type": "stream",
     "text": [
      "[MoviePy] Done.\n",
      "[MoviePy] >>>> Video ready: test_videos_output/solidWhiteRight.mp4 \n",
      "\n"
     ]
    }
   ],
   "source": [
    "white_output = 'test_videos_output/solidWhiteRight.mp4'\n",
    "## To speed up the testing process you may want to try your pipeline on a shorter subclip of the video\n",
    "## To do so add .subclip(start_second,end_second) to the end of the line below\n",
    "## Where start_second and end_second are integer values representing the start and end of the subclip\n",
    "## You may also uncomment the following line for a subclip of the first 5 seconds\n",
    "##clip1 = VideoFileClip(\"solidWhiteRight.mp4\").subclip(0,5)\n",
    "clip1 = VideoFileClip(\"test_videos/solidWhiteRight.mp4\")\n",
    "##clip1 = VideoFileClip(\"test_videos/challenge.mp4\")\n",
    "##clip1 = VideoFileClip(\"test_videos/solidWhiteRight.mp4\")\n",
    "white_clip = clip1.fl_image(process_image) #NOTE: this function expects color images!!\n",
    "white_clip.write_videofile(white_output, audio=False)"
   ]
  },
  {
   "cell_type": "code",
   "execution_count": 8,
   "metadata": {},
   "outputs": [
    {
     "data": {
      "text/html": [
       "\n",
       "<video width=\"960\" height=\"540\" controls>\n",
       "  <source src=\"test_videos_output/solidWhiteRight.mp4\">\n",
       "</video>\n"
      ],
      "text/plain": [
       "<IPython.core.display.HTML object>"
      ]
     },
     "execution_count": 8,
     "metadata": {},
     "output_type": "execute_result"
    }
   ],
   "source": [
    "HTML(\"\"\"\n",
    "<video width=\"960\" height=\"540\" controls>\n",
    "  <source src=\"{0}\">\n",
    "</video>\n",
    "\"\"\".format(white_output))"
   ]
  },
  {
   "cell_type": "code",
   "execution_count": 9,
   "metadata": {},
   "outputs": [
    {
     "name": "stdout",
     "output_type": "stream",
     "text": [
      "[MoviePy] >>>> Building video test_videos_output/solidYellowLeft.mp4\n",
      "[MoviePy] Writing video test_videos_output/solidYellowLeft.mp4\n"
     ]
    },
    {
     "name": "stderr",
     "output_type": "stream",
     "text": [
      "100%|█████████▉| 681/682 [00:19<00:00, 35.29it/s]\n"
     ]
    },
    {
     "name": "stdout",
     "output_type": "stream",
     "text": [
      "[MoviePy] Done.\n",
      "[MoviePy] >>>> Video ready: test_videos_output/solidYellowLeft.mp4 \n",
      "\n"
     ]
    }
   ],
   "source": [
    "white_output = 'test_videos_output/solidYellowLeft.mp4'\n",
    "\n",
    "clip1 = VideoFileClip(\"test_videos/solidYellowLeft.mp4\")\n",
    "\n",
    "white_clip = clip1.fl_image(process_image) #NOTE: this function expects color images!!\n",
    "white_clip.write_videofile(white_output, audio=False)"
   ]
  },
  {
   "cell_type": "code",
   "execution_count": 10,
   "metadata": {},
   "outputs": [
    {
     "data": {
      "text/html": [
       "\n",
       "<video width=\"960\" height=\"540\" controls>\n",
       "  <source src=\"test_videos_output/solidYellowLeft.mp4\">\n",
       "</video>\n"
      ],
      "text/plain": [
       "<IPython.core.display.HTML object>"
      ]
     },
     "execution_count": 10,
     "metadata": {},
     "output_type": "execute_result"
    }
   ],
   "source": [
    "HTML(\"\"\"\n",
    "<video width=\"960\" height=\"540\" controls>\n",
    "  <source src=\"{0}\">\n",
    "</video>\n",
    "\"\"\".format(white_output))"
   ]
  },
  {
   "cell_type": "code",
   "execution_count": null,
   "metadata": {},
   "outputs": [],
   "source": []
  }
 ],
 "metadata": {
  "kernelspec": {
   "display_name": "Python 3",
   "language": "python",
   "name": "python3"
  },
  "language_info": {
   "codemirror_mode": {
    "name": "ipython",
    "version": 3
   },
   "file_extension": ".py",
   "mimetype": "text/x-python",
   "name": "python",
   "nbconvert_exporter": "python",
   "pygments_lexer": "ipython3",
   "version": "3.5.2"
  },
  "widgets": {
   "state": {},
   "version": "1.1.2"
  }
 },
 "nbformat": 4,
 "nbformat_minor": 2
}
